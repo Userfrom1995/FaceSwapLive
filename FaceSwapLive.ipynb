{
  "cells": [
    {
      "cell_type": "markdown",
      "metadata": {
        "colab_type": "text",
        "id": "view-in-github"
      },
      "source": [
        "<a href=\"https://colab.research.google.com/github/Userfrom1995/FaceSwapLive/blob/main/FaceSwapLive.ipynb\" target=\"_parent\"><img src=\"https://colab.research.google.com/assets/colab-badge.svg\" alt=\"Open In Colab\"/></a>"
      ]
    },
    {
      "cell_type": "code",
      "execution_count": null,
      "metadata": {
        "colab": {
          "base_uri": "https://localhost:8080/"
        },
        "id": "7oCtM15-x_AN",
        "outputId": "8fc7306a-43a7-4240-bff3-dada444a8dd1"
      },
      "outputs": [],
      "source": [
        "!git clone https://github.com/Userfrom1995/FaceSwapLive.git"
      ]
    },
    {
      "cell_type": "code",
      "execution_count": null,
      "metadata": {
        "colab": {
          "base_uri": "https://localhost:8080/"
        },
        "id": "-hu6eQ3BmqGx",
        "outputId": "49d12895-d7ab-4df1-e3b7-a764d803ecb1"
      },
      "outputs": [],
      "source": [
        "%cd FaceSwapLive\n",
        "!pip install -r requirements.txt"
      ]
    },
    {
      "cell_type": "code",
      "execution_count": null,
      "metadata": {
        "colab": {
          "base_uri": "https://localhost:8080/"
        },
        "id": "zI1fuRJvnxTy",
        "outputId": "6374357d-fea8-4ad6-93a6-3403c2f5a9ac"
      },
      "outputs": [],
      "source": [
        "# 🚀 STEP 4: Launch Face Swap Live Server\n",
        "#\n",
        "# Replace \"xxxxxxxxxxxxxxxxxxxxxxxxxxxxxxxxxxxxxxxxxxxxxxxxxxx\" with your ngrok auth token\n",
        "# Get your token from: https://dashboard.ngrok.com/get-started/your-authtoken\n",
        "\n",
        "!python app.py --ngrok --ngrok-auth-token xxxxxxxxxxxxxxxxxxxxxxxxxxxxxxxxxxxxxxxxxxxxxxxxxxx\n"
      ]
    },
    {
      "cell_type": "code",
      "execution_count": null,
      "metadata": {},
      "outputs": [],
      "source": [
        "## 📚 Documentation & Support\n",
        "\n",
        "For more information about ngrok, server configuration, or troubleshooting:\n",
        "\n",
        "### 🔗 Repository:\n",
        "**GitHub**: [https://github.com/Userfrom1995/FaceSwapLive](https://github.com/Userfrom1995/FaceSwapLive)\n",
        "\n"
      ]
    }
  ],
  "metadata": {
    "accelerator": "GPU",
    "colab": {
      "authorship_tag": "ABX9TyOYz6Tsg7gjPUNTfm+iEdDo",
      "gpuType": "T4",
      "include_colab_link": true,
      "provenance": []
    },
    "kernelspec": {
      "display_name": "Python 3",
      "name": "python3"
    },
    "language_info": {
      "name": "python"
    }
  },
  "nbformat": 4,
  "nbformat_minor": 0
}
